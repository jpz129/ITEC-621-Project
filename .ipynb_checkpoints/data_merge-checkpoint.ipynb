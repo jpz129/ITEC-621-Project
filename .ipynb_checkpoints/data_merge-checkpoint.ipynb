{
 "metadata": {
  "language_info": {
   "codemirror_mode": {
    "name": "ipython",
    "version": 3
   },
   "file_extension": ".py",
   "mimetype": "text/x-python",
   "name": "python",
   "nbconvert_exporter": "python",
   "pygments_lexer": "ipython3",
   "version": "3.8.8"
  },
  "orig_nbformat": 2,
  "kernelspec": {
   "name": "python3",
   "display_name": "Python 3.8.8 64-bit ('itec620': conda)",
   "metadata": {
    "interpreter": {
     "hash": "7020086032d28bf5951aa7b2940d354e5d41b3bfe5af5e469b63395732c991e8"
    }
   }
  }
 },
 "nbformat": 4,
 "nbformat_minor": 2,
 "cells": [
  {
   "cell_type": "code",
   "execution_count": 1,
   "metadata": {},
   "outputs": [],
   "source": [
    "import pandas as pd"
   ]
  },
  {
   "cell_type": "code",
   "execution_count": 2,
   "metadata": {},
   "outputs": [],
   "source": [
    "# import all csvs to list\n",
    "import glob\n",
    "# data from https://www.realtor.com/research/data/\n",
    "df_list = [pd.read_csv(file) for file in glob.glob('data/*.csv')]"
   ]
  },
  {
   "cell_type": "code",
   "execution_count": 3,
   "metadata": {},
   "outputs": [
    {
     "output_type": "execute_result",
     "data": {
      "text/plain": [
       "   month_date_yyyymm  county_fips     county_name  median_listing_price  \\\n",
       "0             202102        26111     midland, mi              199400.0   \n",
       "1             202102        18065       henry, in               79900.0   \n",
       "2             202102        30063    missoula, mt              599000.0   \n",
       "3             202102        10001        kent, de              331450.0   \n",
       "4             202102        23005  cumberland, me              465000.0   \n",
       "\n",
       "   median_listing_price_mm  median_listing_price_yy  active_listing_count  \\\n",
       "0                  -0.0025                  -0.0273                    95   \n",
       "1                  -0.1112                  -0.0910                    88   \n",
       "2                  -0.1306                   0.3629                   119   \n",
       "3                   0.0233                   0.2053                   206   \n",
       "4                  -0.0085                   0.1074                   270   \n",
       "\n",
       "   active_listing_count_mm  active_listing_count_yy  median_days_on_market  \\\n",
       "0                  -0.1739                  -0.6360                   72.0   \n",
       "1                  -0.1927                  -0.5368                   58.5   \n",
       "2                  -0.0325                  -0.6281                   85.5   \n",
       "3                  -0.0190                  -0.6135                   74.0   \n",
       "4                  -0.1205                  -0.5345                   41.0   \n",
       "\n",
       "   ...  median_square_feet_yy  average_listing_price  \\\n",
       "0  ...                -0.1111            286368.1737   \n",
       "1  ...                 0.0223            121103.5776   \n",
       "2  ...                 0.0807            950933.1844   \n",
       "3  ...                 0.0812            333143.1480   \n",
       "4  ...                -0.0856            605446.4750   \n",
       "\n",
       "   average_listing_price_mm  average_listing_price_yy  total_listing_count  \\\n",
       "0                    0.0581                    0.1453                  302   \n",
       "1                   -0.0337                   -0.0394                  165   \n",
       "2                   -0.0759                    0.6212                  340   \n",
       "3                    0.0171                    0.2057                  608   \n",
       "4                    0.0313                    0.0384                  376   \n",
       "\n",
       "   total_listing_count_mm  total_listing_count_yy  pending_ratio  \\\n",
       "0                 -0.0351                 -0.3588       2.178947   \n",
       "1                 -0.1538                 -0.2979       0.875000   \n",
       "2                  0.0726                 -0.3750       1.857143   \n",
       "3                 -0.0500                  0.0393       1.951456   \n",
       "4                 -0.0852                 -0.4487       0.392593   \n",
       "\n",
       "   pending_ratio_mm  pending_ratio_yy  \n",
       "0            0.4572            1.3743  \n",
       "1            0.0860            0.6382  \n",
       "2            0.2799            1.1571  \n",
       "3           -0.0962            1.8539  \n",
       "4            0.0538            0.2167  \n",
       "\n",
       "[5 rows x 39 columns]"
      ],
      "text/html": "<div>\n<style scoped>\n    .dataframe tbody tr th:only-of-type {\n        vertical-align: middle;\n    }\n\n    .dataframe tbody tr th {\n        vertical-align: top;\n    }\n\n    .dataframe thead th {\n        text-align: right;\n    }\n</style>\n<table border=\"1\" class=\"dataframe\">\n  <thead>\n    <tr style=\"text-align: right;\">\n      <th></th>\n      <th>month_date_yyyymm</th>\n      <th>county_fips</th>\n      <th>county_name</th>\n      <th>median_listing_price</th>\n      <th>median_listing_price_mm</th>\n      <th>median_listing_price_yy</th>\n      <th>active_listing_count</th>\n      <th>active_listing_count_mm</th>\n      <th>active_listing_count_yy</th>\n      <th>median_days_on_market</th>\n      <th>...</th>\n      <th>median_square_feet_yy</th>\n      <th>average_listing_price</th>\n      <th>average_listing_price_mm</th>\n      <th>average_listing_price_yy</th>\n      <th>total_listing_count</th>\n      <th>total_listing_count_mm</th>\n      <th>total_listing_count_yy</th>\n      <th>pending_ratio</th>\n      <th>pending_ratio_mm</th>\n      <th>pending_ratio_yy</th>\n    </tr>\n  </thead>\n  <tbody>\n    <tr>\n      <th>0</th>\n      <td>202102</td>\n      <td>26111</td>\n      <td>midland, mi</td>\n      <td>199400.0</td>\n      <td>-0.0025</td>\n      <td>-0.0273</td>\n      <td>95</td>\n      <td>-0.1739</td>\n      <td>-0.6360</td>\n      <td>72.0</td>\n      <td>...</td>\n      <td>-0.1111</td>\n      <td>286368.1737</td>\n      <td>0.0581</td>\n      <td>0.1453</td>\n      <td>302</td>\n      <td>-0.0351</td>\n      <td>-0.3588</td>\n      <td>2.178947</td>\n      <td>0.4572</td>\n      <td>1.3743</td>\n    </tr>\n    <tr>\n      <th>1</th>\n      <td>202102</td>\n      <td>18065</td>\n      <td>henry, in</td>\n      <td>79900.0</td>\n      <td>-0.1112</td>\n      <td>-0.0910</td>\n      <td>88</td>\n      <td>-0.1927</td>\n      <td>-0.5368</td>\n      <td>58.5</td>\n      <td>...</td>\n      <td>0.0223</td>\n      <td>121103.5776</td>\n      <td>-0.0337</td>\n      <td>-0.0394</td>\n      <td>165</td>\n      <td>-0.1538</td>\n      <td>-0.2979</td>\n      <td>0.875000</td>\n      <td>0.0860</td>\n      <td>0.6382</td>\n    </tr>\n    <tr>\n      <th>2</th>\n      <td>202102</td>\n      <td>30063</td>\n      <td>missoula, mt</td>\n      <td>599000.0</td>\n      <td>-0.1306</td>\n      <td>0.3629</td>\n      <td>119</td>\n      <td>-0.0325</td>\n      <td>-0.6281</td>\n      <td>85.5</td>\n      <td>...</td>\n      <td>0.0807</td>\n      <td>950933.1844</td>\n      <td>-0.0759</td>\n      <td>0.6212</td>\n      <td>340</td>\n      <td>0.0726</td>\n      <td>-0.3750</td>\n      <td>1.857143</td>\n      <td>0.2799</td>\n      <td>1.1571</td>\n    </tr>\n    <tr>\n      <th>3</th>\n      <td>202102</td>\n      <td>10001</td>\n      <td>kent, de</td>\n      <td>331450.0</td>\n      <td>0.0233</td>\n      <td>0.2053</td>\n      <td>206</td>\n      <td>-0.0190</td>\n      <td>-0.6135</td>\n      <td>74.0</td>\n      <td>...</td>\n      <td>0.0812</td>\n      <td>333143.1480</td>\n      <td>0.0171</td>\n      <td>0.2057</td>\n      <td>608</td>\n      <td>-0.0500</td>\n      <td>0.0393</td>\n      <td>1.951456</td>\n      <td>-0.0962</td>\n      <td>1.8539</td>\n    </tr>\n    <tr>\n      <th>4</th>\n      <td>202102</td>\n      <td>23005</td>\n      <td>cumberland, me</td>\n      <td>465000.0</td>\n      <td>-0.0085</td>\n      <td>0.1074</td>\n      <td>270</td>\n      <td>-0.1205</td>\n      <td>-0.5345</td>\n      <td>41.0</td>\n      <td>...</td>\n      <td>-0.0856</td>\n      <td>605446.4750</td>\n      <td>0.0313</td>\n      <td>0.0384</td>\n      <td>376</td>\n      <td>-0.0852</td>\n      <td>-0.4487</td>\n      <td>0.392593</td>\n      <td>0.0538</td>\n      <td>0.2167</td>\n    </tr>\n  </tbody>\n</table>\n<p>5 rows × 39 columns</p>\n</div>"
     },
     "metadata": {},
     "execution_count": 3
    }
   ],
   "source": [
    "df_list[0].head()"
   ]
  },
  {
   "cell_type": "code",
   "execution_count": 4,
   "metadata": {},
   "outputs": [
    {
     "output_type": "execute_result",
     "data": {
      "text/plain": [
       "   county_fips  median_listing_price  median_listing_price_mm  \\\n",
       "0        26111              199400.0                  -0.0025   \n",
       "1        26111              199400.0                  -0.0025   \n",
       "2        26111              199400.0                  -0.0025   \n",
       "3        26111              199400.0                  -0.0025   \n",
       "4        26111              199400.0                  -0.0025   \n",
       "\n",
       "   median_listing_price_yy  active_listing_count  active_listing_count_mm  \\\n",
       "0                  -0.0273                    95                  -0.1739   \n",
       "1                  -0.0273                    95                  -0.1739   \n",
       "2                  -0.0273                    95                  -0.1739   \n",
       "3                  -0.0273                    95                  -0.1739   \n",
       "4                  -0.0273                    95                  -0.1739   \n",
       "\n",
       "   active_listing_count_yy  median_days_on_market  median_days_on_market_mm  \\\n",
       "0                   -0.636                   72.0                 -0.064935   \n",
       "1                   -0.636                   72.0                 -0.064935   \n",
       "2                   -0.636                   72.0                 -0.064935   \n",
       "3                   -0.636                   72.0                 -0.064935   \n",
       "4                   -0.636                   72.0                 -0.064935   \n",
       "\n",
       "   median_days_on_market_yy  ...  total_listing_count  total_listing_count_mm  \\\n",
       "0                 -0.234043  ...                  302                 -0.0351   \n",
       "1                 -0.234043  ...                  302                 -0.0351   \n",
       "2                 -0.234043  ...                  302                 -0.0351   \n",
       "3                 -0.234043  ...                  302                 -0.0351   \n",
       "4                 -0.234043  ...                  302                 -0.0351   \n",
       "\n",
       "   total_listing_count_yy  pending_ratio  pending_ratio_mm  pending_ratio_yy  \\\n",
       "0                 -0.3588       2.178947            0.4572            1.3743   \n",
       "1                 -0.3588       2.178947            0.4572            1.3743   \n",
       "2                 -0.3588       2.178947            0.4572            1.3743   \n",
       "3                 -0.3588       2.178947            0.4572            1.3743   \n",
       "4                 -0.3588       2.178947            0.4572            1.3743   \n",
       "\n",
       "   state_id   county     state        date  \n",
       "0        mi  midland  michigan  2021-02-01  \n",
       "1        mi  midland  michigan  2021-02-01  \n",
       "2        mi  midland  michigan  2021-02-01  \n",
       "3        mi  midland  michigan  2021-02-01  \n",
       "4        mi  midland  michigan  2021-02-01  \n",
       "\n",
       "[5 rows x 41 columns]"
      ],
      "text/html": "<div>\n<style scoped>\n    .dataframe tbody tr th:only-of-type {\n        vertical-align: middle;\n    }\n\n    .dataframe tbody tr th {\n        vertical-align: top;\n    }\n\n    .dataframe thead th {\n        text-align: right;\n    }\n</style>\n<table border=\"1\" class=\"dataframe\">\n  <thead>\n    <tr style=\"text-align: right;\">\n      <th></th>\n      <th>county_fips</th>\n      <th>median_listing_price</th>\n      <th>median_listing_price_mm</th>\n      <th>median_listing_price_yy</th>\n      <th>active_listing_count</th>\n      <th>active_listing_count_mm</th>\n      <th>active_listing_count_yy</th>\n      <th>median_days_on_market</th>\n      <th>median_days_on_market_mm</th>\n      <th>median_days_on_market_yy</th>\n      <th>...</th>\n      <th>total_listing_count</th>\n      <th>total_listing_count_mm</th>\n      <th>total_listing_count_yy</th>\n      <th>pending_ratio</th>\n      <th>pending_ratio_mm</th>\n      <th>pending_ratio_yy</th>\n      <th>state_id</th>\n      <th>county</th>\n      <th>state</th>\n      <th>date</th>\n    </tr>\n  </thead>\n  <tbody>\n    <tr>\n      <th>0</th>\n      <td>26111</td>\n      <td>199400.0</td>\n      <td>-0.0025</td>\n      <td>-0.0273</td>\n      <td>95</td>\n      <td>-0.1739</td>\n      <td>-0.636</td>\n      <td>72.0</td>\n      <td>-0.064935</td>\n      <td>-0.234043</td>\n      <td>...</td>\n      <td>302</td>\n      <td>-0.0351</td>\n      <td>-0.3588</td>\n      <td>2.178947</td>\n      <td>0.4572</td>\n      <td>1.3743</td>\n      <td>mi</td>\n      <td>midland</td>\n      <td>michigan</td>\n      <td>2021-02-01</td>\n    </tr>\n    <tr>\n      <th>1</th>\n      <td>26111</td>\n      <td>199400.0</td>\n      <td>-0.0025</td>\n      <td>-0.0273</td>\n      <td>95</td>\n      <td>-0.1739</td>\n      <td>-0.636</td>\n      <td>72.0</td>\n      <td>-0.064935</td>\n      <td>-0.234043</td>\n      <td>...</td>\n      <td>302</td>\n      <td>-0.0351</td>\n      <td>-0.3588</td>\n      <td>2.178947</td>\n      <td>0.4572</td>\n      <td>1.3743</td>\n      <td>mi</td>\n      <td>midland</td>\n      <td>michigan</td>\n      <td>2021-02-01</td>\n    </tr>\n    <tr>\n      <th>2</th>\n      <td>26111</td>\n      <td>199400.0</td>\n      <td>-0.0025</td>\n      <td>-0.0273</td>\n      <td>95</td>\n      <td>-0.1739</td>\n      <td>-0.636</td>\n      <td>72.0</td>\n      <td>-0.064935</td>\n      <td>-0.234043</td>\n      <td>...</td>\n      <td>302</td>\n      <td>-0.0351</td>\n      <td>-0.3588</td>\n      <td>2.178947</td>\n      <td>0.4572</td>\n      <td>1.3743</td>\n      <td>mi</td>\n      <td>midland</td>\n      <td>michigan</td>\n      <td>2021-02-01</td>\n    </tr>\n    <tr>\n      <th>3</th>\n      <td>26111</td>\n      <td>199400.0</td>\n      <td>-0.0025</td>\n      <td>-0.0273</td>\n      <td>95</td>\n      <td>-0.1739</td>\n      <td>-0.636</td>\n      <td>72.0</td>\n      <td>-0.064935</td>\n      <td>-0.234043</td>\n      <td>...</td>\n      <td>302</td>\n      <td>-0.0351</td>\n      <td>-0.3588</td>\n      <td>2.178947</td>\n      <td>0.4572</td>\n      <td>1.3743</td>\n      <td>mi</td>\n      <td>midland</td>\n      <td>michigan</td>\n      <td>2021-02-01</td>\n    </tr>\n    <tr>\n      <th>4</th>\n      <td>26111</td>\n      <td>199400.0</td>\n      <td>-0.0025</td>\n      <td>-0.0273</td>\n      <td>95</td>\n      <td>-0.1739</td>\n      <td>-0.636</td>\n      <td>72.0</td>\n      <td>-0.064935</td>\n      <td>-0.234043</td>\n      <td>...</td>\n      <td>302</td>\n      <td>-0.0351</td>\n      <td>-0.3588</td>\n      <td>2.178947</td>\n      <td>0.4572</td>\n      <td>1.3743</td>\n      <td>mi</td>\n      <td>midland</td>\n      <td>michigan</td>\n      <td>2021-02-01</td>\n    </tr>\n  </tbody>\n</table>\n<p>5 rows × 41 columns</p>\n</div>"
     },
     "metadata": {},
     "execution_count": 4
    }
   ],
   "source": [
    "df_list[1].head()"
   ]
  },
  {
   "cell_type": "code",
   "execution_count": 5,
   "metadata": {},
   "outputs": [],
   "source": [
    "df_list[0]['state_id'] = df_list[0]['county_name'].apply(lambda x: x.split(', ')[1])\n",
    "df_list[0]['county'] = df_list[0]['county_name'].apply(lambda x: x.split(', ')[0])"
   ]
  },
  {
   "cell_type": "code",
   "execution_count": 6,
   "metadata": {},
   "outputs": [
    {
     "output_type": "error",
     "ename": "MemoryError",
     "evalue": "Unable to allocate 41.1 GiB for an array with shape (5510478848,) and data type int64",
     "traceback": [
      "\u001b[1;31m---------------------------------------------------------------------------\u001b[0m",
      "\u001b[1;31mMemoryError\u001b[0m                               Traceback (most recent call last)",
      "\u001b[1;32m<ipython-input-6-5521e9c55029>\u001b[0m in \u001b[0;36m<module>\u001b[1;34m\u001b[0m\n\u001b[0;32m      1\u001b[0m \u001b[1;31m# merge data together\u001b[0m\u001b[1;33m\u001b[0m\u001b[1;33m\u001b[0m\u001b[1;33m\u001b[0m\u001b[0m\n\u001b[1;32m----> 2\u001b[1;33m \u001b[0mrealtor\u001b[0m \u001b[1;33m=\u001b[0m \u001b[0mpd\u001b[0m\u001b[1;33m.\u001b[0m\u001b[0mmerge\u001b[0m\u001b[1;33m(\u001b[0m\u001b[0mdf_list\u001b[0m\u001b[1;33m[\u001b[0m\u001b[1;36m0\u001b[0m\u001b[1;33m]\u001b[0m\u001b[1;33m,\u001b[0m \u001b[0mdf_list\u001b[0m\u001b[1;33m[\u001b[0m\u001b[1;36m1\u001b[0m\u001b[1;33m]\u001b[0m\u001b[1;33m[\u001b[0m\u001b[1;33m[\u001b[0m\u001b[1;34m'state'\u001b[0m\u001b[1;33m,\u001b[0m \u001b[1;34m'state_id'\u001b[0m\u001b[1;33m]\u001b[0m\u001b[1;33m]\u001b[0m\u001b[1;33m,\u001b[0m \u001b[0mleft_on\u001b[0m\u001b[1;33m=\u001b[0m\u001b[1;34m'state_id'\u001b[0m\u001b[1;33m,\u001b[0m \u001b[0mright_on\u001b[0m\u001b[1;33m=\u001b[0m\u001b[1;34m'state_id'\u001b[0m\u001b[1;33m)\u001b[0m\u001b[1;33m.\u001b[0m\u001b[0mdrop\u001b[0m\u001b[1;33m(\u001b[0m\u001b[1;33m[\u001b[0m\u001b[1;34m'county_name'\u001b[0m\u001b[1;33m]\u001b[0m\u001b[1;33m,\u001b[0m \u001b[0maxis\u001b[0m\u001b[1;33m=\u001b[0m\u001b[1;36m1\u001b[0m\u001b[1;33m)\u001b[0m\u001b[1;33m\u001b[0m\u001b[1;33m\u001b[0m\u001b[0m\n\u001b[0m",
      "\u001b[1;32m~\\miniconda3\\envs\\itec620\\lib\\site-packages\\pandas\\core\\reshape\\merge.py\u001b[0m in \u001b[0;36mmerge\u001b[1;34m(left, right, how, on, left_on, right_on, left_index, right_index, sort, suffixes, copy, indicator, validate)\u001b[0m\n\u001b[0;32m     87\u001b[0m         \u001b[0mvalidate\u001b[0m\u001b[1;33m=\u001b[0m\u001b[0mvalidate\u001b[0m\u001b[1;33m,\u001b[0m\u001b[1;33m\u001b[0m\u001b[1;33m\u001b[0m\u001b[0m\n\u001b[0;32m     88\u001b[0m     )\n\u001b[1;32m---> 89\u001b[1;33m     \u001b[1;32mreturn\u001b[0m \u001b[0mop\u001b[0m\u001b[1;33m.\u001b[0m\u001b[0mget_result\u001b[0m\u001b[1;33m(\u001b[0m\u001b[1;33m)\u001b[0m\u001b[1;33m\u001b[0m\u001b[1;33m\u001b[0m\u001b[0m\n\u001b[0m\u001b[0;32m     90\u001b[0m \u001b[1;33m\u001b[0m\u001b[0m\n\u001b[0;32m     91\u001b[0m \u001b[1;33m\u001b[0m\u001b[0m\n",
      "\u001b[1;32m~\\miniconda3\\envs\\itec620\\lib\\site-packages\\pandas\\core\\reshape\\merge.py\u001b[0m in \u001b[0;36mget_result\u001b[1;34m(self)\u001b[0m\n\u001b[0;32m    682\u001b[0m             \u001b[0mself\u001b[0m\u001b[1;33m.\u001b[0m\u001b[0mleft\u001b[0m\u001b[1;33m,\u001b[0m \u001b[0mself\u001b[0m\u001b[1;33m.\u001b[0m\u001b[0mright\u001b[0m \u001b[1;33m=\u001b[0m \u001b[0mself\u001b[0m\u001b[1;33m.\u001b[0m\u001b[0m_indicator_pre_merge\u001b[0m\u001b[1;33m(\u001b[0m\u001b[0mself\u001b[0m\u001b[1;33m.\u001b[0m\u001b[0mleft\u001b[0m\u001b[1;33m,\u001b[0m \u001b[0mself\u001b[0m\u001b[1;33m.\u001b[0m\u001b[0mright\u001b[0m\u001b[1;33m)\u001b[0m\u001b[1;33m\u001b[0m\u001b[1;33m\u001b[0m\u001b[0m\n\u001b[0;32m    683\u001b[0m \u001b[1;33m\u001b[0m\u001b[0m\n\u001b[1;32m--> 684\u001b[1;33m         \u001b[0mjoin_index\u001b[0m\u001b[1;33m,\u001b[0m \u001b[0mleft_indexer\u001b[0m\u001b[1;33m,\u001b[0m \u001b[0mright_indexer\u001b[0m \u001b[1;33m=\u001b[0m \u001b[0mself\u001b[0m\u001b[1;33m.\u001b[0m\u001b[0m_get_join_info\u001b[0m\u001b[1;33m(\u001b[0m\u001b[1;33m)\u001b[0m\u001b[1;33m\u001b[0m\u001b[1;33m\u001b[0m\u001b[0m\n\u001b[0m\u001b[0;32m    685\u001b[0m \u001b[1;33m\u001b[0m\u001b[0m\n\u001b[0;32m    686\u001b[0m         llabels, rlabels = _items_overlap_with_suffix(\n",
      "\u001b[1;32m~\\miniconda3\\envs\\itec620\\lib\\site-packages\\pandas\\core\\reshape\\merge.py\u001b[0m in \u001b[0;36m_get_join_info\u001b[1;34m(self)\u001b[0m\n\u001b[0;32m    907\u001b[0m             )\n\u001b[0;32m    908\u001b[0m         \u001b[1;32melse\u001b[0m\u001b[1;33m:\u001b[0m\u001b[1;33m\u001b[0m\u001b[1;33m\u001b[0m\u001b[0m\n\u001b[1;32m--> 909\u001b[1;33m             \u001b[1;33m(\u001b[0m\u001b[0mleft_indexer\u001b[0m\u001b[1;33m,\u001b[0m \u001b[0mright_indexer\u001b[0m\u001b[1;33m)\u001b[0m \u001b[1;33m=\u001b[0m \u001b[0mself\u001b[0m\u001b[1;33m.\u001b[0m\u001b[0m_get_join_indexers\u001b[0m\u001b[1;33m(\u001b[0m\u001b[1;33m)\u001b[0m\u001b[1;33m\u001b[0m\u001b[1;33m\u001b[0m\u001b[0m\n\u001b[0m\u001b[0;32m    910\u001b[0m \u001b[1;33m\u001b[0m\u001b[0m\n\u001b[0;32m    911\u001b[0m             \u001b[1;32mif\u001b[0m \u001b[0mself\u001b[0m\u001b[1;33m.\u001b[0m\u001b[0mright_index\u001b[0m\u001b[1;33m:\u001b[0m\u001b[1;33m\u001b[0m\u001b[1;33m\u001b[0m\u001b[0m\n",
      "\u001b[1;32m~\\miniconda3\\envs\\itec620\\lib\\site-packages\\pandas\\core\\reshape\\merge.py\u001b[0m in \u001b[0;36m_get_join_indexers\u001b[1;34m(self)\u001b[0m\n\u001b[0;32m    885\u001b[0m     \u001b[1;32mdef\u001b[0m \u001b[0m_get_join_indexers\u001b[0m\u001b[1;33m(\u001b[0m\u001b[0mself\u001b[0m\u001b[1;33m)\u001b[0m\u001b[1;33m:\u001b[0m\u001b[1;33m\u001b[0m\u001b[1;33m\u001b[0m\u001b[0m\n\u001b[0;32m    886\u001b[0m         \u001b[1;34m\"\"\" return the join indexers \"\"\"\u001b[0m\u001b[1;33m\u001b[0m\u001b[1;33m\u001b[0m\u001b[0m\n\u001b[1;32m--> 887\u001b[1;33m         return get_join_indexers(\n\u001b[0m\u001b[0;32m    888\u001b[0m             \u001b[0mself\u001b[0m\u001b[1;33m.\u001b[0m\u001b[0mleft_join_keys\u001b[0m\u001b[1;33m,\u001b[0m \u001b[0mself\u001b[0m\u001b[1;33m.\u001b[0m\u001b[0mright_join_keys\u001b[0m\u001b[1;33m,\u001b[0m \u001b[0msort\u001b[0m\u001b[1;33m=\u001b[0m\u001b[0mself\u001b[0m\u001b[1;33m.\u001b[0m\u001b[0msort\u001b[0m\u001b[1;33m,\u001b[0m \u001b[0mhow\u001b[0m\u001b[1;33m=\u001b[0m\u001b[0mself\u001b[0m\u001b[1;33m.\u001b[0m\u001b[0mhow\u001b[0m\u001b[1;33m\u001b[0m\u001b[1;33m\u001b[0m\u001b[0m\n\u001b[0;32m    889\u001b[0m         )\n",
      "\u001b[1;32m~\\miniconda3\\envs\\itec620\\lib\\site-packages\\pandas\\core\\reshape\\merge.py\u001b[0m in \u001b[0;36mget_join_indexers\u001b[1;34m(left_keys, right_keys, sort, how, **kwargs)\u001b[0m\n\u001b[0;32m   1439\u001b[0m     }[how]\n\u001b[0;32m   1440\u001b[0m \u001b[1;33m\u001b[0m\u001b[0m\n\u001b[1;32m-> 1441\u001b[1;33m     \u001b[1;32mreturn\u001b[0m \u001b[0mjoin_func\u001b[0m\u001b[1;33m(\u001b[0m\u001b[0mlkey\u001b[0m\u001b[1;33m,\u001b[0m \u001b[0mrkey\u001b[0m\u001b[1;33m,\u001b[0m \u001b[0mcount\u001b[0m\u001b[1;33m,\u001b[0m \u001b[1;33m**\u001b[0m\u001b[0mkwargs\u001b[0m\u001b[1;33m)\u001b[0m\u001b[1;33m\u001b[0m\u001b[1;33m\u001b[0m\u001b[0m\n\u001b[0m\u001b[0;32m   1442\u001b[0m \u001b[1;33m\u001b[0m\u001b[0m\n\u001b[0;32m   1443\u001b[0m \u001b[1;33m\u001b[0m\u001b[0m\n",
      "\u001b[1;32mpandas\\_libs\\join.pyx\u001b[0m in \u001b[0;36mpandas._libs.join.inner_join\u001b[1;34m()\u001b[0m\n",
      "\u001b[1;31mMemoryError\u001b[0m: Unable to allocate 41.1 GiB for an array with shape (5510478848,) and data type int64"
     ]
    }
   ],
   "source": [
    "# merge data together\n",
    "realtor = pd.merge(df_list[0], df_list[1][['state', 'state_id']], left_on='state_id', right_on='state_id').drop(['county_name'], axis=1)"
   ]
  },
  {
   "cell_type": "code",
   "execution_count": 17,
   "metadata": {},
   "outputs": [
    {
     "output_type": "stream",
     "name": "stdout",
     "text": [
      "<class 'pandas.core.frame.DataFrame'>\nInt64Index: 3136000 entries, 0 to 3135999\nData columns (total 41 columns):\n #   Column                                   Dtype  \n---  ------                                   -----  \n 0   month_date_yyyymm                        int64  \n 1   county_fips                              int64  \n 2   median_listing_price                     float64\n 3   median_listing_price_mm                  float64\n 4   median_listing_price_yy                  float64\n 5   active_listing_count                     int64  \n 6   active_listing_count_mm                  float64\n 7   active_listing_count_yy                  float64\n 8   median_days_on_market                    float64\n 9   median_days_on_market_mm                 float64\n 10  median_days_on_market_yy                 float64\n 11  new_listing_count                        int64  \n 12  new_listing_count_mm                     float64\n 13  new_listing_count_yy                     float64\n 14  price_increased_count                    int64  \n 15  price_increased_count_mm                 float64\n 16  price_increased_count_yy                 float64\n 17  price_reduced_count                      int64  \n 18  price_reduced_count_mm                   float64\n 19  price_reduced_count_yy                   float64\n 20  pending_listing_count                    int64  \n 21  pending_listing_count_mm                 float64\n 22  pending_listing_count_yy                 float64\n 23  median_listing_price_per_square_foot     float64\n 24  median_listing_price_per_square_foot_mm  float64\n 25  median_listing_price_per_square_foot_yy  float64\n 26  median_square_feet                       float64\n 27  median_square_feet_mm                    float64\n 28  median_square_feet_yy                    float64\n 29  average_listing_price                    float64\n 30  average_listing_price_mm                 float64\n 31  average_listing_price_yy                 float64\n 32  total_listing_count                      int64  \n 33  total_listing_count_mm                   float64\n 34  total_listing_count_yy                   float64\n 35  pending_ratio                            float64\n 36  pending_ratio_mm                         float64\n 37  pending_ratio_yy                         float64\n 38  state_id                                 object \n 39  county                                   object \n 40  state                                    object \ndtypes: float64(30), int64(8), object(3)\nmemory usage: 1004.9+ MB\n"
     ]
    }
   ],
   "source": [
    "realtor.info()"
   ]
  },
  {
   "cell_type": "code",
   "execution_count": 24,
   "metadata": {},
   "outputs": [],
   "source": [
    "# convert to datetime\n",
    "realtor['date'] = pd.to_datetime(realtor['month_date_yyyymm'], format='%Y%m', errors='coerce').dropna()\n",
    "realtor.drop('month_date_yyyymm', axis=1, inplace=True)"
   ]
  },
  {
   "cell_type": "code",
   "execution_count": 28,
   "metadata": {},
   "outputs": [],
   "source": [
    "# smaller set with only 2020 to current\n",
    "realtor_covid = realtor[realtor['date'] >= '2020']"
   ]
  },
  {
   "cell_type": "code",
   "execution_count": 29,
   "metadata": {},
   "outputs": [],
   "source": [
    "# saving to csvs for later use\n",
    "realtor.to_csv('data/full_realtor.csv', index=False)\n",
    "realtor_covid.to_csv('data/realtor_covid.csv', index=False)"
   ]
  },
  {
   "source": [
    "------"
   ],
   "cell_type": "markdown",
   "metadata": {}
  },
  {
   "cell_type": "code",
   "execution_count": 1,
   "metadata": {},
   "outputs": [],
   "source": [
    "import pandas as pd"
   ]
  },
  {
   "cell_type": "code",
   "execution_count": 2,
   "metadata": {},
   "outputs": [],
   "source": [
    "cases = pd.read_csv('https://raw.githubusercontent.com/CSSEGISandData/COVID-19/master/csse_covid_19_data/csse_covid_19_time_series/time_series_covid19_confirmed_US.csv')"
   ]
  },
  {
   "cell_type": "code",
   "execution_count": 3,
   "metadata": {},
   "outputs": [],
   "source": [
    "deaths = pd.read_csv('https://raw.githubusercontent.com/CSSEGISandData/COVID-19/master/csse_covid_19_data/csse_covid_19_time_series/time_series_covid19_deaths_US.csv')"
   ]
  },
  {
   "cell_type": "code",
   "execution_count": 4,
   "metadata": {},
   "outputs": [
    {
     "output_type": "execute_result",
     "data": {
      "text/plain": [
       "        UID iso2 iso3  code3    FIPS   Admin2 Province_State Country_Region  \\\n",
       "0  84001001   US  USA    840  1001.0  Autauga        Alabama             US   \n",
       "1  84001003   US  USA    840  1003.0  Baldwin        Alabama             US   \n",
       "2  84001005   US  USA    840  1005.0  Barbour        Alabama             US   \n",
       "3  84001007   US  USA    840  1007.0     Bibb        Alabama             US   \n",
       "4  84001009   US  USA    840  1009.0   Blount        Alabama             US   \n",
       "\n",
       "         Lat      Long_  ... 3/21/21  3/22/21  3/23/21  3/24/21  3/25/21  \\\n",
       "0  32.539527 -86.644082  ...    6513     6517     6525     6533     6540   \n",
       "1  30.727750 -87.722071  ...   20347    20361    20354    20395    20417   \n",
       "2  31.868263 -85.387129  ...    2212     2213     2213     2216     2218   \n",
       "3  32.996421 -87.125115  ...    2529     2529     2530     2535     2534   \n",
       "4  33.982109 -86.567906  ...    6383     6387     6388     6402     6408   \n",
       "\n",
       "   3/26/21  3/27/21  3/28/21  3/29/21  3/30/21  \n",
       "0     6543     6562     6570     6577     6580  \n",
       "1    20423    20453    20473    20487    20492  \n",
       "2     2221     2224     2226     2226     2227  \n",
       "3     2535     2535     2536     2536     2537  \n",
       "4     6415     6420     6424     6426     6443  \n",
       "\n",
       "[5 rows x 445 columns]"
      ],
      "text/html": "<div>\n<style scoped>\n    .dataframe tbody tr th:only-of-type {\n        vertical-align: middle;\n    }\n\n    .dataframe tbody tr th {\n        vertical-align: top;\n    }\n\n    .dataframe thead th {\n        text-align: right;\n    }\n</style>\n<table border=\"1\" class=\"dataframe\">\n  <thead>\n    <tr style=\"text-align: right;\">\n      <th></th>\n      <th>UID</th>\n      <th>iso2</th>\n      <th>iso3</th>\n      <th>code3</th>\n      <th>FIPS</th>\n      <th>Admin2</th>\n      <th>Province_State</th>\n      <th>Country_Region</th>\n      <th>Lat</th>\n      <th>Long_</th>\n      <th>...</th>\n      <th>3/21/21</th>\n      <th>3/22/21</th>\n      <th>3/23/21</th>\n      <th>3/24/21</th>\n      <th>3/25/21</th>\n      <th>3/26/21</th>\n      <th>3/27/21</th>\n      <th>3/28/21</th>\n      <th>3/29/21</th>\n      <th>3/30/21</th>\n    </tr>\n  </thead>\n  <tbody>\n    <tr>\n      <th>0</th>\n      <td>84001001</td>\n      <td>US</td>\n      <td>USA</td>\n      <td>840</td>\n      <td>1001.0</td>\n      <td>Autauga</td>\n      <td>Alabama</td>\n      <td>US</td>\n      <td>32.539527</td>\n      <td>-86.644082</td>\n      <td>...</td>\n      <td>6513</td>\n      <td>6517</td>\n      <td>6525</td>\n      <td>6533</td>\n      <td>6540</td>\n      <td>6543</td>\n      <td>6562</td>\n      <td>6570</td>\n      <td>6577</td>\n      <td>6580</td>\n    </tr>\n    <tr>\n      <th>1</th>\n      <td>84001003</td>\n      <td>US</td>\n      <td>USA</td>\n      <td>840</td>\n      <td>1003.0</td>\n      <td>Baldwin</td>\n      <td>Alabama</td>\n      <td>US</td>\n      <td>30.727750</td>\n      <td>-87.722071</td>\n      <td>...</td>\n      <td>20347</td>\n      <td>20361</td>\n      <td>20354</td>\n      <td>20395</td>\n      <td>20417</td>\n      <td>20423</td>\n      <td>20453</td>\n      <td>20473</td>\n      <td>20487</td>\n      <td>20492</td>\n    </tr>\n    <tr>\n      <th>2</th>\n      <td>84001005</td>\n      <td>US</td>\n      <td>USA</td>\n      <td>840</td>\n      <td>1005.0</td>\n      <td>Barbour</td>\n      <td>Alabama</td>\n      <td>US</td>\n      <td>31.868263</td>\n      <td>-85.387129</td>\n      <td>...</td>\n      <td>2212</td>\n      <td>2213</td>\n      <td>2213</td>\n      <td>2216</td>\n      <td>2218</td>\n      <td>2221</td>\n      <td>2224</td>\n      <td>2226</td>\n      <td>2226</td>\n      <td>2227</td>\n    </tr>\n    <tr>\n      <th>3</th>\n      <td>84001007</td>\n      <td>US</td>\n      <td>USA</td>\n      <td>840</td>\n      <td>1007.0</td>\n      <td>Bibb</td>\n      <td>Alabama</td>\n      <td>US</td>\n      <td>32.996421</td>\n      <td>-87.125115</td>\n      <td>...</td>\n      <td>2529</td>\n      <td>2529</td>\n      <td>2530</td>\n      <td>2535</td>\n      <td>2534</td>\n      <td>2535</td>\n      <td>2535</td>\n      <td>2536</td>\n      <td>2536</td>\n      <td>2537</td>\n    </tr>\n    <tr>\n      <th>4</th>\n      <td>84001009</td>\n      <td>US</td>\n      <td>USA</td>\n      <td>840</td>\n      <td>1009.0</td>\n      <td>Blount</td>\n      <td>Alabama</td>\n      <td>US</td>\n      <td>33.982109</td>\n      <td>-86.567906</td>\n      <td>...</td>\n      <td>6383</td>\n      <td>6387</td>\n      <td>6388</td>\n      <td>6402</td>\n      <td>6408</td>\n      <td>6415</td>\n      <td>6420</td>\n      <td>6424</td>\n      <td>6426</td>\n      <td>6443</td>\n    </tr>\n  </tbody>\n</table>\n<p>5 rows × 445 columns</p>\n</div>"
     },
     "metadata": {},
     "execution_count": 4
    }
   ],
   "source": [
    "cases.head()"
   ]
  },
  {
   "cell_type": "code",
   "execution_count": 5,
   "metadata": {},
   "outputs": [
    {
     "output_type": "execute_result",
     "data": {
      "text/plain": [
       "        UID iso2 iso3  code3    FIPS   Admin2 Province_State Country_Region  \\\n",
       "0  84001001   US  USA    840  1001.0  Autauga        Alabama             US   \n",
       "1  84001003   US  USA    840  1003.0  Baldwin        Alabama             US   \n",
       "2  84001005   US  USA    840  1005.0  Barbour        Alabama             US   \n",
       "3  84001007   US  USA    840  1007.0     Bibb        Alabama             US   \n",
       "4  84001009   US  USA    840  1009.0   Blount        Alabama             US   \n",
       "\n",
       "         Lat      Long_  ... 3/21/21  3/22/21  3/23/21  3/24/21  3/25/21  \\\n",
       "0  32.539527 -86.644082  ...      98       98       99       99       99   \n",
       "1  30.727750 -87.722071  ...     296      296      297      300      300   \n",
       "2  31.868263 -85.387129  ...      54       54       54       54       54   \n",
       "3  32.996421 -87.125115  ...      58       58       58       58       58   \n",
       "4  33.982109 -86.567906  ...     130      130      130      131      131   \n",
       "\n",
       "   3/26/21  3/27/21  3/28/21  3/29/21  3/30/21  \n",
       "0       99       99       99       99       99  \n",
       "1      301      301      301      301      301  \n",
       "2       54       54       54       54       54  \n",
       "3       58       58       58       58       58  \n",
       "4      131      131      131      131      131  \n",
       "\n",
       "[5 rows x 446 columns]"
      ],
      "text/html": "<div>\n<style scoped>\n    .dataframe tbody tr th:only-of-type {\n        vertical-align: middle;\n    }\n\n    .dataframe tbody tr th {\n        vertical-align: top;\n    }\n\n    .dataframe thead th {\n        text-align: right;\n    }\n</style>\n<table border=\"1\" class=\"dataframe\">\n  <thead>\n    <tr style=\"text-align: right;\">\n      <th></th>\n      <th>UID</th>\n      <th>iso2</th>\n      <th>iso3</th>\n      <th>code3</th>\n      <th>FIPS</th>\n      <th>Admin2</th>\n      <th>Province_State</th>\n      <th>Country_Region</th>\n      <th>Lat</th>\n      <th>Long_</th>\n      <th>...</th>\n      <th>3/21/21</th>\n      <th>3/22/21</th>\n      <th>3/23/21</th>\n      <th>3/24/21</th>\n      <th>3/25/21</th>\n      <th>3/26/21</th>\n      <th>3/27/21</th>\n      <th>3/28/21</th>\n      <th>3/29/21</th>\n      <th>3/30/21</th>\n    </tr>\n  </thead>\n  <tbody>\n    <tr>\n      <th>0</th>\n      <td>84001001</td>\n      <td>US</td>\n      <td>USA</td>\n      <td>840</td>\n      <td>1001.0</td>\n      <td>Autauga</td>\n      <td>Alabama</td>\n      <td>US</td>\n      <td>32.539527</td>\n      <td>-86.644082</td>\n      <td>...</td>\n      <td>98</td>\n      <td>98</td>\n      <td>99</td>\n      <td>99</td>\n      <td>99</td>\n      <td>99</td>\n      <td>99</td>\n      <td>99</td>\n      <td>99</td>\n      <td>99</td>\n    </tr>\n    <tr>\n      <th>1</th>\n      <td>84001003</td>\n      <td>US</td>\n      <td>USA</td>\n      <td>840</td>\n      <td>1003.0</td>\n      <td>Baldwin</td>\n      <td>Alabama</td>\n      <td>US</td>\n      <td>30.727750</td>\n      <td>-87.722071</td>\n      <td>...</td>\n      <td>296</td>\n      <td>296</td>\n      <td>297</td>\n      <td>300</td>\n      <td>300</td>\n      <td>301</td>\n      <td>301</td>\n      <td>301</td>\n      <td>301</td>\n      <td>301</td>\n    </tr>\n    <tr>\n      <th>2</th>\n      <td>84001005</td>\n      <td>US</td>\n      <td>USA</td>\n      <td>840</td>\n      <td>1005.0</td>\n      <td>Barbour</td>\n      <td>Alabama</td>\n      <td>US</td>\n      <td>31.868263</td>\n      <td>-85.387129</td>\n      <td>...</td>\n      <td>54</td>\n      <td>54</td>\n      <td>54</td>\n      <td>54</td>\n      <td>54</td>\n      <td>54</td>\n      <td>54</td>\n      <td>54</td>\n      <td>54</td>\n      <td>54</td>\n    </tr>\n    <tr>\n      <th>3</th>\n      <td>84001007</td>\n      <td>US</td>\n      <td>USA</td>\n      <td>840</td>\n      <td>1007.0</td>\n      <td>Bibb</td>\n      <td>Alabama</td>\n      <td>US</td>\n      <td>32.996421</td>\n      <td>-87.125115</td>\n      <td>...</td>\n      <td>58</td>\n      <td>58</td>\n      <td>58</td>\n      <td>58</td>\n      <td>58</td>\n      <td>58</td>\n      <td>58</td>\n      <td>58</td>\n      <td>58</td>\n      <td>58</td>\n    </tr>\n    <tr>\n      <th>4</th>\n      <td>84001009</td>\n      <td>US</td>\n      <td>USA</td>\n      <td>840</td>\n      <td>1009.0</td>\n      <td>Blount</td>\n      <td>Alabama</td>\n      <td>US</td>\n      <td>33.982109</td>\n      <td>-86.567906</td>\n      <td>...</td>\n      <td>130</td>\n      <td>130</td>\n      <td>130</td>\n      <td>131</td>\n      <td>131</td>\n      <td>131</td>\n      <td>131</td>\n      <td>131</td>\n      <td>131</td>\n      <td>131</td>\n    </tr>\n  </tbody>\n</table>\n<p>5 rows × 446 columns</p>\n</div>"
     },
     "metadata": {},
     "execution_count": 5
    }
   ],
   "source": [
    "deaths.head()"
   ]
  },
  {
   "cell_type": "code",
   "execution_count": 6,
   "metadata": {},
   "outputs": [],
   "source": [
    "# melt dates to column\n",
    "val_cols = cases.columns[11:]\n",
    "id_cols = cases.columns[:11]\n",
    "cases = cases.melt(value_vars=val_cols, id_vars=id_cols, var_name='date', value_name='cases')"
   ]
  },
  {
   "cell_type": "code",
   "execution_count": 7,
   "metadata": {},
   "outputs": [],
   "source": [
    "# same for deaths\n",
    "val_cols = deaths.columns[12:]\n",
    "id_cols = deaths.columns[:12]\n",
    "deaths = deaths.melt(value_vars=val_cols, id_vars=id_cols, var_name='date', value_name='deaths')"
   ]
  },
  {
   "cell_type": "code",
   "execution_count": 8,
   "metadata": {},
   "outputs": [
    {
     "output_type": "execute_result",
     "data": {
      "text/plain": [
       "        UID iso2 iso3  code3    FIPS   Admin2 Province_State Country_Region  \\\n",
       "0  84001001   US  USA    840  1001.0  Autauga        Alabama             US   \n",
       "1  84001003   US  USA    840  1003.0  Baldwin        Alabama             US   \n",
       "2  84001005   US  USA    840  1005.0  Barbour        Alabama             US   \n",
       "3  84001007   US  USA    840  1007.0     Bibb        Alabama             US   \n",
       "4  84001009   US  USA    840  1009.0   Blount        Alabama             US   \n",
       "\n",
       "         Lat      Long_          Combined_Key     date  cases  \n",
       "0  32.539527 -86.644082  Autauga, Alabama, US  1/22/20      0  \n",
       "1  30.727750 -87.722071  Baldwin, Alabama, US  1/22/20      0  \n",
       "2  31.868263 -85.387129  Barbour, Alabama, US  1/22/20      0  \n",
       "3  32.996421 -87.125115     Bibb, Alabama, US  1/22/20      0  \n",
       "4  33.982109 -86.567906   Blount, Alabama, US  1/22/20      0  "
      ],
      "text/html": "<div>\n<style scoped>\n    .dataframe tbody tr th:only-of-type {\n        vertical-align: middle;\n    }\n\n    .dataframe tbody tr th {\n        vertical-align: top;\n    }\n\n    .dataframe thead th {\n        text-align: right;\n    }\n</style>\n<table border=\"1\" class=\"dataframe\">\n  <thead>\n    <tr style=\"text-align: right;\">\n      <th></th>\n      <th>UID</th>\n      <th>iso2</th>\n      <th>iso3</th>\n      <th>code3</th>\n      <th>FIPS</th>\n      <th>Admin2</th>\n      <th>Province_State</th>\n      <th>Country_Region</th>\n      <th>Lat</th>\n      <th>Long_</th>\n      <th>Combined_Key</th>\n      <th>date</th>\n      <th>cases</th>\n    </tr>\n  </thead>\n  <tbody>\n    <tr>\n      <th>0</th>\n      <td>84001001</td>\n      <td>US</td>\n      <td>USA</td>\n      <td>840</td>\n      <td>1001.0</td>\n      <td>Autauga</td>\n      <td>Alabama</td>\n      <td>US</td>\n      <td>32.539527</td>\n      <td>-86.644082</td>\n      <td>Autauga, Alabama, US</td>\n      <td>1/22/20</td>\n      <td>0</td>\n    </tr>\n    <tr>\n      <th>1</th>\n      <td>84001003</td>\n      <td>US</td>\n      <td>USA</td>\n      <td>840</td>\n      <td>1003.0</td>\n      <td>Baldwin</td>\n      <td>Alabama</td>\n      <td>US</td>\n      <td>30.727750</td>\n      <td>-87.722071</td>\n      <td>Baldwin, Alabama, US</td>\n      <td>1/22/20</td>\n      <td>0</td>\n    </tr>\n    <tr>\n      <th>2</th>\n      <td>84001005</td>\n      <td>US</td>\n      <td>USA</td>\n      <td>840</td>\n      <td>1005.0</td>\n      <td>Barbour</td>\n      <td>Alabama</td>\n      <td>US</td>\n      <td>31.868263</td>\n      <td>-85.387129</td>\n      <td>Barbour, Alabama, US</td>\n      <td>1/22/20</td>\n      <td>0</td>\n    </tr>\n    <tr>\n      <th>3</th>\n      <td>84001007</td>\n      <td>US</td>\n      <td>USA</td>\n      <td>840</td>\n      <td>1007.0</td>\n      <td>Bibb</td>\n      <td>Alabama</td>\n      <td>US</td>\n      <td>32.996421</td>\n      <td>-87.125115</td>\n      <td>Bibb, Alabama, US</td>\n      <td>1/22/20</td>\n      <td>0</td>\n    </tr>\n    <tr>\n      <th>4</th>\n      <td>84001009</td>\n      <td>US</td>\n      <td>USA</td>\n      <td>840</td>\n      <td>1009.0</td>\n      <td>Blount</td>\n      <td>Alabama</td>\n      <td>US</td>\n      <td>33.982109</td>\n      <td>-86.567906</td>\n      <td>Blount, Alabama, US</td>\n      <td>1/22/20</td>\n      <td>0</td>\n    </tr>\n  </tbody>\n</table>\n</div>"
     },
     "metadata": {},
     "execution_count": 8
    }
   ],
   "source": [
    "cases.head()"
   ]
  },
  {
   "cell_type": "code",
   "execution_count": 9,
   "metadata": {},
   "outputs": [
    {
     "output_type": "execute_result",
     "data": {
      "text/plain": [
       "        UID iso2 iso3  code3    FIPS   Admin2 Province_State Country_Region  \\\n",
       "0  84001001   US  USA    840  1001.0  Autauga        Alabama             US   \n",
       "1  84001003   US  USA    840  1003.0  Baldwin        Alabama             US   \n",
       "2  84001005   US  USA    840  1005.0  Barbour        Alabama             US   \n",
       "3  84001007   US  USA    840  1007.0     Bibb        Alabama             US   \n",
       "4  84001009   US  USA    840  1009.0   Blount        Alabama             US   \n",
       "\n",
       "         Lat      Long_          Combined_Key  Population     date  deaths  \n",
       "0  32.539527 -86.644082  Autauga, Alabama, US       55869  1/22/20       0  \n",
       "1  30.727750 -87.722071  Baldwin, Alabama, US      223234  1/22/20       0  \n",
       "2  31.868263 -85.387129  Barbour, Alabama, US       24686  1/22/20       0  \n",
       "3  32.996421 -87.125115     Bibb, Alabama, US       22394  1/22/20       0  \n",
       "4  33.982109 -86.567906   Blount, Alabama, US       57826  1/22/20       0  "
      ],
      "text/html": "<div>\n<style scoped>\n    .dataframe tbody tr th:only-of-type {\n        vertical-align: middle;\n    }\n\n    .dataframe tbody tr th {\n        vertical-align: top;\n    }\n\n    .dataframe thead th {\n        text-align: right;\n    }\n</style>\n<table border=\"1\" class=\"dataframe\">\n  <thead>\n    <tr style=\"text-align: right;\">\n      <th></th>\n      <th>UID</th>\n      <th>iso2</th>\n      <th>iso3</th>\n      <th>code3</th>\n      <th>FIPS</th>\n      <th>Admin2</th>\n      <th>Province_State</th>\n      <th>Country_Region</th>\n      <th>Lat</th>\n      <th>Long_</th>\n      <th>Combined_Key</th>\n      <th>Population</th>\n      <th>date</th>\n      <th>deaths</th>\n    </tr>\n  </thead>\n  <tbody>\n    <tr>\n      <th>0</th>\n      <td>84001001</td>\n      <td>US</td>\n      <td>USA</td>\n      <td>840</td>\n      <td>1001.0</td>\n      <td>Autauga</td>\n      <td>Alabama</td>\n      <td>US</td>\n      <td>32.539527</td>\n      <td>-86.644082</td>\n      <td>Autauga, Alabama, US</td>\n      <td>55869</td>\n      <td>1/22/20</td>\n      <td>0</td>\n    </tr>\n    <tr>\n      <th>1</th>\n      <td>84001003</td>\n      <td>US</td>\n      <td>USA</td>\n      <td>840</td>\n      <td>1003.0</td>\n      <td>Baldwin</td>\n      <td>Alabama</td>\n      <td>US</td>\n      <td>30.727750</td>\n      <td>-87.722071</td>\n      <td>Baldwin, Alabama, US</td>\n      <td>223234</td>\n      <td>1/22/20</td>\n      <td>0</td>\n    </tr>\n    <tr>\n      <th>2</th>\n      <td>84001005</td>\n      <td>US</td>\n      <td>USA</td>\n      <td>840</td>\n      <td>1005.0</td>\n      <td>Barbour</td>\n      <td>Alabama</td>\n      <td>US</td>\n      <td>31.868263</td>\n      <td>-85.387129</td>\n      <td>Barbour, Alabama, US</td>\n      <td>24686</td>\n      <td>1/22/20</td>\n      <td>0</td>\n    </tr>\n    <tr>\n      <th>3</th>\n      <td>84001007</td>\n      <td>US</td>\n      <td>USA</td>\n      <td>840</td>\n      <td>1007.0</td>\n      <td>Bibb</td>\n      <td>Alabama</td>\n      <td>US</td>\n      <td>32.996421</td>\n      <td>-87.125115</td>\n      <td>Bibb, Alabama, US</td>\n      <td>22394</td>\n      <td>1/22/20</td>\n      <td>0</td>\n    </tr>\n    <tr>\n      <th>4</th>\n      <td>84001009</td>\n      <td>US</td>\n      <td>USA</td>\n      <td>840</td>\n      <td>1009.0</td>\n      <td>Blount</td>\n      <td>Alabama</td>\n      <td>US</td>\n      <td>33.982109</td>\n      <td>-86.567906</td>\n      <td>Blount, Alabama, US</td>\n      <td>57826</td>\n      <td>1/22/20</td>\n      <td>0</td>\n    </tr>\n  </tbody>\n</table>\n</div>"
     },
     "metadata": {},
     "execution_count": 9
    }
   ],
   "source": [
    "deaths.head()"
   ]
  },
  {
   "cell_type": "code",
   "execution_count": 10,
   "metadata": {},
   "outputs": [],
   "source": [
    "# convert to datetime\n",
    "cases['date'] = pd.to_datetime(cases.date)\n",
    "deaths['date'] = pd.to_datetime(deaths.date)"
   ]
  },
  {
   "cell_type": "code",
   "execution_count": 11,
   "metadata": {},
   "outputs": [
    {
     "output_type": "execute_result",
     "data": {
      "text/plain": [
       "            date     Admin2  Province_State    cases\n",
       "0     2020-01-31  Abbeville  South Carolina        0\n",
       "1     2020-01-31     Acadia       Louisiana        0\n",
       "2     2020-01-31   Accomack        Virginia        0\n",
       "3     2020-01-31        Ada           Idaho        0\n",
       "4     2020-01-31      Adair            Iowa        0\n",
       "...          ...        ...             ...      ...\n",
       "50005 2021-03-31       Yuma         Arizona  1098436\n",
       "50006 2021-03-31       Yuma        Colorado    23354\n",
       "50007 2021-03-31     Zapata           Texas    52491\n",
       "50008 2021-03-31     Zavala           Texas    54935\n",
       "50009 2021-03-31    Ziebach    South Dakota    10106\n",
       "\n",
       "[50010 rows x 4 columns]"
      ],
      "text/html": "<div>\n<style scoped>\n    .dataframe tbody tr th:only-of-type {\n        vertical-align: middle;\n    }\n\n    .dataframe tbody tr th {\n        vertical-align: top;\n    }\n\n    .dataframe thead th {\n        text-align: right;\n    }\n</style>\n<table border=\"1\" class=\"dataframe\">\n  <thead>\n    <tr style=\"text-align: right;\">\n      <th></th>\n      <th>date</th>\n      <th>Admin2</th>\n      <th>Province_State</th>\n      <th>cases</th>\n    </tr>\n  </thead>\n  <tbody>\n    <tr>\n      <th>0</th>\n      <td>2020-01-31</td>\n      <td>Abbeville</td>\n      <td>South Carolina</td>\n      <td>0</td>\n    </tr>\n    <tr>\n      <th>1</th>\n      <td>2020-01-31</td>\n      <td>Acadia</td>\n      <td>Louisiana</td>\n      <td>0</td>\n    </tr>\n    <tr>\n      <th>2</th>\n      <td>2020-01-31</td>\n      <td>Accomack</td>\n      <td>Virginia</td>\n      <td>0</td>\n    </tr>\n    <tr>\n      <th>3</th>\n      <td>2020-01-31</td>\n      <td>Ada</td>\n      <td>Idaho</td>\n      <td>0</td>\n    </tr>\n    <tr>\n      <th>4</th>\n      <td>2020-01-31</td>\n      <td>Adair</td>\n      <td>Iowa</td>\n      <td>0</td>\n    </tr>\n    <tr>\n      <th>...</th>\n      <td>...</td>\n      <td>...</td>\n      <td>...</td>\n      <td>...</td>\n    </tr>\n    <tr>\n      <th>50005</th>\n      <td>2021-03-31</td>\n      <td>Yuma</td>\n      <td>Arizona</td>\n      <td>1098436</td>\n    </tr>\n    <tr>\n      <th>50006</th>\n      <td>2021-03-31</td>\n      <td>Yuma</td>\n      <td>Colorado</td>\n      <td>23354</td>\n    </tr>\n    <tr>\n      <th>50007</th>\n      <td>2021-03-31</td>\n      <td>Zapata</td>\n      <td>Texas</td>\n      <td>52491</td>\n    </tr>\n    <tr>\n      <th>50008</th>\n      <td>2021-03-31</td>\n      <td>Zavala</td>\n      <td>Texas</td>\n      <td>54935</td>\n    </tr>\n    <tr>\n      <th>50009</th>\n      <td>2021-03-31</td>\n      <td>Ziebach</td>\n      <td>South Dakota</td>\n      <td>10106</td>\n    </tr>\n  </tbody>\n</table>\n<p>50010 rows × 4 columns</p>\n</div>"
     },
     "metadata": {},
     "execution_count": 11
    }
   ],
   "source": [
    "# grouping on monthly \n",
    "g = cases.groupby([pd.Grouper(freq=\"M\", key='date',), 'Admin2', 'Province_State'])\n",
    "cases_g = g.sum().reset_index()[['date', 'Admin2', 'Province_State', 'cases']]\n",
    "cases_g"
   ]
  },
  {
   "cell_type": "code",
   "execution_count": 12,
   "metadata": {},
   "outputs": [
    {
     "output_type": "execute_result",
     "data": {
      "text/plain": [
       "            date     Admin2  Province_State  deaths\n",
       "0     2020-01-31  Abbeville  South Carolina       0\n",
       "1     2020-01-31     Acadia       Louisiana       0\n",
       "2     2020-01-31   Accomack        Virginia       0\n",
       "3     2020-01-31        Ada           Idaho       0\n",
       "4     2020-01-31      Adair            Iowa       0\n",
       "...          ...        ...             ...     ...\n",
       "50005 2021-03-31       Yuma         Arizona   24224\n",
       "50006 2021-03-31       Yuma        Colorado     510\n",
       "50007 2021-03-31     Zapata           Texas     874\n",
       "50008 2021-03-31     Zavala           Texas    1175\n",
       "50009 2021-03-31    Ziebach    South Dakota     270\n",
       "\n",
       "[50010 rows x 4 columns]"
      ],
      "text/html": "<div>\n<style scoped>\n    .dataframe tbody tr th:only-of-type {\n        vertical-align: middle;\n    }\n\n    .dataframe tbody tr th {\n        vertical-align: top;\n    }\n\n    .dataframe thead th {\n        text-align: right;\n    }\n</style>\n<table border=\"1\" class=\"dataframe\">\n  <thead>\n    <tr style=\"text-align: right;\">\n      <th></th>\n      <th>date</th>\n      <th>Admin2</th>\n      <th>Province_State</th>\n      <th>deaths</th>\n    </tr>\n  </thead>\n  <tbody>\n    <tr>\n      <th>0</th>\n      <td>2020-01-31</td>\n      <td>Abbeville</td>\n      <td>South Carolina</td>\n      <td>0</td>\n    </tr>\n    <tr>\n      <th>1</th>\n      <td>2020-01-31</td>\n      <td>Acadia</td>\n      <td>Louisiana</td>\n      <td>0</td>\n    </tr>\n    <tr>\n      <th>2</th>\n      <td>2020-01-31</td>\n      <td>Accomack</td>\n      <td>Virginia</td>\n      <td>0</td>\n    </tr>\n    <tr>\n      <th>3</th>\n      <td>2020-01-31</td>\n      <td>Ada</td>\n      <td>Idaho</td>\n      <td>0</td>\n    </tr>\n    <tr>\n      <th>4</th>\n      <td>2020-01-31</td>\n      <td>Adair</td>\n      <td>Iowa</td>\n      <td>0</td>\n    </tr>\n    <tr>\n      <th>...</th>\n      <td>...</td>\n      <td>...</td>\n      <td>...</td>\n      <td>...</td>\n    </tr>\n    <tr>\n      <th>50005</th>\n      <td>2021-03-31</td>\n      <td>Yuma</td>\n      <td>Arizona</td>\n      <td>24224</td>\n    </tr>\n    <tr>\n      <th>50006</th>\n      <td>2021-03-31</td>\n      <td>Yuma</td>\n      <td>Colorado</td>\n      <td>510</td>\n    </tr>\n    <tr>\n      <th>50007</th>\n      <td>2021-03-31</td>\n      <td>Zapata</td>\n      <td>Texas</td>\n      <td>874</td>\n    </tr>\n    <tr>\n      <th>50008</th>\n      <td>2021-03-31</td>\n      <td>Zavala</td>\n      <td>Texas</td>\n      <td>1175</td>\n    </tr>\n    <tr>\n      <th>50009</th>\n      <td>2021-03-31</td>\n      <td>Ziebach</td>\n      <td>South Dakota</td>\n      <td>270</td>\n    </tr>\n  </tbody>\n</table>\n<p>50010 rows × 4 columns</p>\n</div>"
     },
     "metadata": {},
     "execution_count": 12
    }
   ],
   "source": [
    "# grouping on monthly for deaths\n",
    "g = deaths.groupby([pd.Grouper(freq=\"M\", key='date',), 'Admin2', 'Province_State'])\n",
    "deaths_g = g.sum().reset_index()[['date', 'Admin2', 'Province_State', 'deaths']]\n",
    "deaths_g"
   ]
  },
  {
   "cell_type": "code",
   "execution_count": 13,
   "metadata": {},
   "outputs": [],
   "source": [
    "# merge data \n",
    "covid = pd.merge(left=cases_g, right=deaths_g, how='left')"
   ]
  },
  {
   "cell_type": "code",
   "execution_count": 14,
   "metadata": {},
   "outputs": [
    {
     "output_type": "execute_result",
     "data": {
      "text/plain": [
       "        date     Admin2  Province_State  cases  deaths\n",
       "0 2020-01-31  Abbeville  South Carolina      0       0\n",
       "1 2020-01-31     Acadia       Louisiana      0       0\n",
       "2 2020-01-31   Accomack        Virginia      0       0\n",
       "3 2020-01-31        Ada           Idaho      0       0\n",
       "4 2020-01-31      Adair            Iowa      0       0"
      ],
      "text/html": "<div>\n<style scoped>\n    .dataframe tbody tr th:only-of-type {\n        vertical-align: middle;\n    }\n\n    .dataframe tbody tr th {\n        vertical-align: top;\n    }\n\n    .dataframe thead th {\n        text-align: right;\n    }\n</style>\n<table border=\"1\" class=\"dataframe\">\n  <thead>\n    <tr style=\"text-align: right;\">\n      <th></th>\n      <th>date</th>\n      <th>Admin2</th>\n      <th>Province_State</th>\n      <th>cases</th>\n      <th>deaths</th>\n    </tr>\n  </thead>\n  <tbody>\n    <tr>\n      <th>0</th>\n      <td>2020-01-31</td>\n      <td>Abbeville</td>\n      <td>South Carolina</td>\n      <td>0</td>\n      <td>0</td>\n    </tr>\n    <tr>\n      <th>1</th>\n      <td>2020-01-31</td>\n      <td>Acadia</td>\n      <td>Louisiana</td>\n      <td>0</td>\n      <td>0</td>\n    </tr>\n    <tr>\n      <th>2</th>\n      <td>2020-01-31</td>\n      <td>Accomack</td>\n      <td>Virginia</td>\n      <td>0</td>\n      <td>0</td>\n    </tr>\n    <tr>\n      <th>3</th>\n      <td>2020-01-31</td>\n      <td>Ada</td>\n      <td>Idaho</td>\n      <td>0</td>\n      <td>0</td>\n    </tr>\n    <tr>\n      <th>4</th>\n      <td>2020-01-31</td>\n      <td>Adair</td>\n      <td>Iowa</td>\n      <td>0</td>\n      <td>0</td>\n    </tr>\n  </tbody>\n</table>\n</div>"
     },
     "metadata": {},
     "execution_count": 14
    }
   ],
   "source": [
    "covid.head()"
   ]
  },
  {
   "cell_type": "code",
   "execution_count": 18,
   "metadata": {},
   "outputs": [],
   "source": [
    "# normalize text\n",
    "covid[['county', 'state']] = covid[['Admin2', 'Province_State']].apply(lambda x: x.astype(str).str.lower())\n",
    "# drop cols\n",
    "covid.drop(['Admin2', 'Province_State'], axis=1, inplace=True)"
   ]
  },
  {
   "cell_type": "code",
   "execution_count": 20,
   "metadata": {},
   "outputs": [],
   "source": [
    "covid.to_csv('data/joined_covid.csv')"
   ]
  },
  {
   "source": [
    "-----"
   ],
   "cell_type": "markdown",
   "metadata": {}
  },
  {
   "cell_type": "code",
   "execution_count": 1,
   "metadata": {},
   "outputs": [],
   "source": [
    "import pandas as pd"
   ]
  },
  {
   "cell_type": "code",
   "execution_count": 2,
   "metadata": {},
   "outputs": [],
   "source": [
    "covid = pd.read_csv('data/joined_covid.csv', parse_dates=[1])\n",
    "houses = pd.read_csv('data/realtor_covid.csv', parse_dates=[40])"
   ]
  },
  {
   "cell_type": "code",
   "execution_count": 3,
   "metadata": {},
   "outputs": [
    {
     "output_type": "stream",
     "name": "stdout",
     "text": [
      "<class 'pandas.core.frame.DataFrame'>\nRangeIndex: 50010 entries, 0 to 50009\nData columns (total 6 columns):\n #   Column      Non-Null Count  Dtype         \n---  ------      --------------  -----         \n 0   Unnamed: 0  50010 non-null  int64         \n 1   date        50010 non-null  datetime64[ns]\n 2   cases       50010 non-null  int64         \n 3   deaths      50010 non-null  int64         \n 4   county      50010 non-null  object        \n 5   state       50010 non-null  object        \ndtypes: datetime64[ns](1), int64(3), object(2)\nmemory usage: 2.3+ MB\n"
     ]
    }
   ],
   "source": [
    "covid.info()"
   ]
  },
  {
   "cell_type": "code",
   "execution_count": 4,
   "metadata": {},
   "outputs": [
    {
     "output_type": "stream",
     "name": "stdout",
     "text": [
      "<class 'pandas.core.frame.DataFrame'>\nRangeIndex: 784000 entries, 0 to 783999\nData columns (total 41 columns):\n #   Column                                   Non-Null Count   Dtype         \n---  ------                                   --------------   -----         \n 0   county_fips                              784000 non-null  int64         \n 1   median_listing_price                     784000 non-null  float64       \n 2   median_listing_price_mm                  784000 non-null  float64       \n 3   median_listing_price_yy                  784000 non-null  float64       \n 4   active_listing_count                     784000 non-null  int64         \n 5   active_listing_count_mm                  784000 non-null  float64       \n 6   active_listing_count_yy                  784000 non-null  float64       \n 7   median_days_on_market                    784000 non-null  float64       \n 8   median_days_on_market_mm                 784000 non-null  float64       \n 9   median_days_on_market_yy                 784000 non-null  float64       \n 10  new_listing_count                        784000 non-null  int64         \n 11  new_listing_count_mm                     784000 non-null  float64       \n 12  new_listing_count_yy                     784000 non-null  float64       \n 13  price_increased_count                    784000 non-null  int64         \n 14  price_increased_count_mm                 486864 non-null  float64       \n 15  price_increased_count_yy                 477624 non-null  float64       \n 16  price_reduced_count                      784000 non-null  int64         \n 17  price_reduced_count_mm                   782936 non-null  float64       \n 18  price_reduced_count_yy                   783664 non-null  float64       \n 19  pending_listing_count                    784000 non-null  int64         \n 20  pending_listing_count_mm                 774256 non-null  float64       \n 21  pending_listing_count_yy                 763056 non-null  float64       \n 22  median_listing_price_per_square_foot     784000 non-null  float64       \n 23  median_listing_price_per_square_foot_mm  760032 non-null  float64       \n 24  median_listing_price_per_square_foot_yy  752864 non-null  float64       \n 25  median_square_feet                       784000 non-null  float64       \n 26  median_square_feet_mm                    760032 non-null  float64       \n 27  median_square_feet_yy                    752864 non-null  float64       \n 28  average_listing_price                    784000 non-null  float64       \n 29  average_listing_price_mm                 784000 non-null  float64       \n 30  average_listing_price_yy                 784000 non-null  float64       \n 31  total_listing_count                      784000 non-null  int64         \n 32  total_listing_count_mm                   784000 non-null  float64       \n 33  total_listing_count_yy                   784000 non-null  float64       \n 34  pending_ratio                            784000 non-null  float64       \n 35  pending_ratio_mm                         784000 non-null  float64       \n 36  pending_ratio_yy                         784000 non-null  float64       \n 37  state_id                                 784000 non-null  object        \n 38  county                                   784000 non-null  object        \n 39  state                                    784000 non-null  object        \n 40  date                                     784000 non-null  datetime64[ns]\ndtypes: datetime64[ns](1), float64(30), int64(7), object(3)\nmemory usage: 245.2+ MB\n"
     ]
    }
   ],
   "source": [
    "houses.info()"
   ]
  },
  {
   "cell_type": "code",
   "execution_count": 5,
   "metadata": {},
   "outputs": [
    {
     "output_type": "execute_result",
     "data": {
      "text/plain": [
       "        date  county         state  county_fips  median_listing_price  \\\n",
       "0 2020-01-31  acadia     louisiana        22001              145500.0   \n",
       "1 2020-01-31     ada         idaho        16001              413420.0   \n",
       "2 2020-01-31   adams      colorado         8001              450000.0   \n",
       "3 2020-01-31   adams      illinois        17001              139900.0   \n",
       "4 2020-01-31   adams  pennsylvania        42001              261523.0   \n",
       "\n",
       "   median_listing_price_mm  median_listing_price_yy  active_listing_count  \\\n",
       "0                   0.0055                   0.1086                   127   \n",
       "1                   0.0210                   0.0959                  1282   \n",
       "2                   0.0779                   0.0588                   504   \n",
       "3                  -0.0264                   0.0919                   230   \n",
       "4                   0.0078                   0.1398                   271   \n",
       "\n",
       "   active_listing_count_mm  active_listing_count_yy  ...  \\\n",
       "0                  -0.0078                  -0.2256  ...   \n",
       "1                  -0.1419                  -0.1803  ...   \n",
       "2                  -0.3793                  -0.4419  ...   \n",
       "3                  -0.2308                  -0.1481  ...   \n",
       "4                  -0.0906                  -0.0814  ...   \n",
       "\n",
       "   median_square_feet_yy  average_listing_price  average_listing_price_mm  \\\n",
       "0                 0.0399            186789.8603                    0.0118   \n",
       "1                 0.0268            516557.6337                    0.0358   \n",
       "2                -0.1725            486766.6235                    0.0860   \n",
       "3                 0.0649            171636.9751                   -0.0287   \n",
       "4                 0.0026            313820.6188                    0.0184   \n",
       "\n",
       "   average_listing_price_yy  total_listing_count  total_listing_count_mm  \\\n",
       "0                    0.3000                  160                 -0.0184   \n",
       "1                    0.0961                 1322                 -0.1376   \n",
       "2                    0.0552                 1178                 -0.2929   \n",
       "3                    0.0720                  293                 -0.0298   \n",
       "4                    0.1558                  290                 -0.0909   \n",
       "\n",
       "   total_listing_count_yy  pending_ratio  pending_ratio_mm  pending_ratio_yy  \n",
       "0                 -0.1960       0.259843           -0.0136            0.0464  \n",
       "1                 -0.1675       0.031201            0.0051            0.0159  \n",
       "2                 -0.2976       1.337302            0.2856            0.4802  \n",
       "3                  0.0693       0.273913            0.2639            0.2591  \n",
       "4                 -0.0675       0.070111           -0.0004            0.0159  \n",
       "\n",
       "[5 rows x 40 columns]"
      ],
      "text/html": "<div>\n<style scoped>\n    .dataframe tbody tr th:only-of-type {\n        vertical-align: middle;\n    }\n\n    .dataframe tbody tr th {\n        vertical-align: top;\n    }\n\n    .dataframe thead th {\n        text-align: right;\n    }\n</style>\n<table border=\"1\" class=\"dataframe\">\n  <thead>\n    <tr style=\"text-align: right;\">\n      <th></th>\n      <th>date</th>\n      <th>county</th>\n      <th>state</th>\n      <th>county_fips</th>\n      <th>median_listing_price</th>\n      <th>median_listing_price_mm</th>\n      <th>median_listing_price_yy</th>\n      <th>active_listing_count</th>\n      <th>active_listing_count_mm</th>\n      <th>active_listing_count_yy</th>\n      <th>...</th>\n      <th>median_square_feet_yy</th>\n      <th>average_listing_price</th>\n      <th>average_listing_price_mm</th>\n      <th>average_listing_price_yy</th>\n      <th>total_listing_count</th>\n      <th>total_listing_count_mm</th>\n      <th>total_listing_count_yy</th>\n      <th>pending_ratio</th>\n      <th>pending_ratio_mm</th>\n      <th>pending_ratio_yy</th>\n    </tr>\n  </thead>\n  <tbody>\n    <tr>\n      <th>0</th>\n      <td>2020-01-31</td>\n      <td>acadia</td>\n      <td>louisiana</td>\n      <td>22001</td>\n      <td>145500.0</td>\n      <td>0.0055</td>\n      <td>0.1086</td>\n      <td>127</td>\n      <td>-0.0078</td>\n      <td>-0.2256</td>\n      <td>...</td>\n      <td>0.0399</td>\n      <td>186789.8603</td>\n      <td>0.0118</td>\n      <td>0.3000</td>\n      <td>160</td>\n      <td>-0.0184</td>\n      <td>-0.1960</td>\n      <td>0.259843</td>\n      <td>-0.0136</td>\n      <td>0.0464</td>\n    </tr>\n    <tr>\n      <th>1</th>\n      <td>2020-01-31</td>\n      <td>ada</td>\n      <td>idaho</td>\n      <td>16001</td>\n      <td>413420.0</td>\n      <td>0.0210</td>\n      <td>0.0959</td>\n      <td>1282</td>\n      <td>-0.1419</td>\n      <td>-0.1803</td>\n      <td>...</td>\n      <td>0.0268</td>\n      <td>516557.6337</td>\n      <td>0.0358</td>\n      <td>0.0961</td>\n      <td>1322</td>\n      <td>-0.1376</td>\n      <td>-0.1675</td>\n      <td>0.031201</td>\n      <td>0.0051</td>\n      <td>0.0159</td>\n    </tr>\n    <tr>\n      <th>2</th>\n      <td>2020-01-31</td>\n      <td>adams</td>\n      <td>colorado</td>\n      <td>8001</td>\n      <td>450000.0</td>\n      <td>0.0779</td>\n      <td>0.0588</td>\n      <td>504</td>\n      <td>-0.3793</td>\n      <td>-0.4419</td>\n      <td>...</td>\n      <td>-0.1725</td>\n      <td>486766.6235</td>\n      <td>0.0860</td>\n      <td>0.0552</td>\n      <td>1178</td>\n      <td>-0.2929</td>\n      <td>-0.2976</td>\n      <td>1.337302</td>\n      <td>0.2856</td>\n      <td>0.4802</td>\n    </tr>\n    <tr>\n      <th>3</th>\n      <td>2020-01-31</td>\n      <td>adams</td>\n      <td>illinois</td>\n      <td>17001</td>\n      <td>139900.0</td>\n      <td>-0.0264</td>\n      <td>0.0919</td>\n      <td>230</td>\n      <td>-0.2308</td>\n      <td>-0.1481</td>\n      <td>...</td>\n      <td>0.0649</td>\n      <td>171636.9751</td>\n      <td>-0.0287</td>\n      <td>0.0720</td>\n      <td>293</td>\n      <td>-0.0298</td>\n      <td>0.0693</td>\n      <td>0.273913</td>\n      <td>0.2639</td>\n      <td>0.2591</td>\n    </tr>\n    <tr>\n      <th>4</th>\n      <td>2020-01-31</td>\n      <td>adams</td>\n      <td>pennsylvania</td>\n      <td>42001</td>\n      <td>261523.0</td>\n      <td>0.0078</td>\n      <td>0.1398</td>\n      <td>271</td>\n      <td>-0.0906</td>\n      <td>-0.0814</td>\n      <td>...</td>\n      <td>0.0026</td>\n      <td>313820.6188</td>\n      <td>0.0184</td>\n      <td>0.1558</td>\n      <td>290</td>\n      <td>-0.0909</td>\n      <td>-0.0675</td>\n      <td>0.070111</td>\n      <td>-0.0004</td>\n      <td>0.0159</td>\n    </tr>\n  </tbody>\n</table>\n<p>5 rows × 40 columns</p>\n</div>"
     },
     "metadata": {},
     "execution_count": 5
    }
   ],
   "source": [
    "# grouping on monthly for deaths\n",
    "g = houses.groupby([pd.Grouper(freq=\"M\", key='date'), 'county', 'state'])\n",
    "houses_g = g.median().reset_index()\n",
    "houses_g.head()"
   ]
  },
  {
   "cell_type": "code",
   "execution_count": 9,
   "metadata": {},
   "outputs": [],
   "source": [
    "# merge data \n",
    "df = pd.merge(covid, houses_g, on=['county', 'state', 'date'])"
   ]
  },
  {
   "cell_type": "code",
   "execution_count": 12,
   "metadata": {},
   "outputs": [
    {
     "output_type": "stream",
     "name": "stdout",
     "text": [
      "<class 'pandas.core.frame.DataFrame'>\nInt64Index: 13804 entries, 0 to 13803\nData columns (total 43 columns):\n #   Column                                   Non-Null Count  Dtype         \n---  ------                                   --------------  -----         \n 0   Unnamed: 0                               13804 non-null  int64         \n 1   date                                     13804 non-null  datetime64[ns]\n 2   cases                                    13804 non-null  int64         \n 3   deaths                                   13804 non-null  int64         \n 4   county                                   13804 non-null  object        \n 5   state                                    13804 non-null  object        \n 6   county_fips                              13804 non-null  int64         \n 7   median_listing_price                     13804 non-null  float64       \n 8   median_listing_price_mm                  13804 non-null  float64       \n 9   median_listing_price_yy                  13804 non-null  float64       \n 10  active_listing_count                     13804 non-null  int64         \n 11  active_listing_count_mm                  13804 non-null  float64       \n 12  active_listing_count_yy                  13804 non-null  float64       \n 13  median_days_on_market                    13804 non-null  float64       \n 14  median_days_on_market_mm                 13804 non-null  float64       \n 15  median_days_on_market_yy                 13804 non-null  float64       \n 16  new_listing_count                        13804 non-null  int64         \n 17  new_listing_count_mm                     13804 non-null  float64       \n 18  new_listing_count_yy                     13804 non-null  float64       \n 19  price_increased_count                    13804 non-null  int64         \n 20  price_increased_count_mm                 8566 non-null   float64       \n 21  price_increased_count_yy                 8406 non-null   float64       \n 22  price_reduced_count                      13804 non-null  int64         \n 23  price_reduced_count_mm                   13786 non-null  float64       \n 24  price_reduced_count_yy                   13798 non-null  float64       \n 25  pending_listing_count                    13804 non-null  int64         \n 26  pending_listing_count_mm                 13652 non-null  float64       \n 27  pending_listing_count_yy                 13466 non-null  float64       \n 28  median_listing_price_per_square_foot     13804 non-null  float64       \n 29  median_listing_price_per_square_foot_mm  13376 non-null  float64       \n 30  median_listing_price_per_square_foot_yy  13248 non-null  float64       \n 31  median_square_feet                       13804 non-null  float64       \n 32  median_square_feet_mm                    13376 non-null  float64       \n 33  median_square_feet_yy                    13248 non-null  float64       \n 34  average_listing_price                    13804 non-null  float64       \n 35  average_listing_price_mm                 13804 non-null  float64       \n 36  average_listing_price_yy                 13804 non-null  float64       \n 37  total_listing_count                      13804 non-null  int64         \n 38  total_listing_count_mm                   13804 non-null  float64       \n 39  total_listing_count_yy                   13804 non-null  float64       \n 40  pending_ratio                            13804 non-null  float64       \n 41  pending_ratio_mm                         13804 non-null  float64       \n 42  pending_ratio_yy                         13804 non-null  float64       \ndtypes: datetime64[ns](1), float64(30), int64(10), object(2)\nmemory usage: 4.6+ MB\n"
     ]
    }
   ],
   "source": [
    "df.info()"
   ]
  },
  {
   "cell_type": "code",
   "execution_count": 18,
   "metadata": {},
   "outputs": [],
   "source": [
    "df.drop('Unnamed: 0', axis=1).to_csv('data/project_data.csv')"
   ]
  },
  {
   "cell_type": "code",
   "execution_count": null,
   "metadata": {},
   "outputs": [],
   "source": []
  }
 ]
}